{
 "cells": [
  {
   "cell_type": "code",
   "execution_count": 1,
   "source": [
    "pip install faker"
   ],
   "outputs": [
    {
     "output_type": "stream",
     "name": "stdout",
     "text": [
      "Requirement already satisfied: faker in c:\\anaconda\\lib\\site-packages (9.7.1)\n",
      "Requirement already satisfied: text-unidecode==1.3 in c:\\anaconda\\lib\\site-packages (from faker) (1.3)\n",
      "Requirement already satisfied: python-dateutil>=2.4 in c:\\anaconda\\lib\\site-packages (from faker) (2.8.1)\n",
      "Requirement already satisfied: six>=1.5 in c:\\anaconda\\lib\\site-packages (from python-dateutil>=2.4->faker) (1.15.0)\n",
      "Note: you may need to restart the kernel to use updated packages.\n"
     ]
    }
   ],
   "metadata": {}
  },
  {
   "cell_type": "code",
   "execution_count": 21,
   "source": [
    "import csv\r\n",
    "from faker import Faker\r\n",
    "import datetime\r\n",
    "\r\n",
    "\r\n",
    "def fake_data_gen(records, headers, mode):\r\n",
    "    fake = Faker('en_US')\r\n",
    "    fake1 = Faker('en_GB')   # To generate phone numbers\r\n",
    "\r\n",
    "    with open(\"data/file.csv\", mode=mode, newline=\"\") as csvFile:\r\n",
    "        writer = csv.DictWriter(csvFile, fieldnames=headers)\r\n",
    "        if mode=='wt':\r\n",
    "            writer.writeheader()\r\n",
    "\r\n",
    "\r\n",
    "        j = 0\r\n",
    "        for i in range(records):\r\n",
    "            # j = j + 1\r\n",
    "            writer.writerow({\r\n",
    "                    'sr' : i,\r\n",
    "                    'abv' : fake.random.choice([1.0,2.0,3.0,4.0]),\r\n",
    "                    'ibu' : fake.random.choice(['','',1.0,2.0]),\r\n",
    "                    'id' : i ,\r\n",
    "                    'name' : fake.name(),\r\n",
    "                    'style' : fake.random.choice(['simple', 'stylish', 'danger']),\r\n",
    "                    \"brewery_id\": fake.random.choice([1.0,2.0,3.0,4.0]),\r\n",
    "                    'ounces' : fake.random.choice([10.0,20.0,30.0,40.0]),\r\n",
    "                    })"
   ],
   "outputs": [],
   "metadata": {}
  },
  {
   "cell_type": "code",
   "execution_count": 22,
   "source": [
    "if __name__ == '__main__':\r\n",
    "\r\n",
    "    while True:\r\n",
    "        try:\r\n",
    "            MODE = int(input('please choose mode 1/2. 1:write, 2:append'))\r\n",
    "            RECORDS = int(input('Enter how many rows to be inserted')) # To Enter required number of data\r\n",
    "            break\r\n",
    "\r\n",
    "        except ValueError:\r\n",
    "            print('Wrong input. Please Enter correct number')\r\n",
    "\r\n",
    "        except NameError:\r\n",
    "            print('Wrong input. Please Enter correct number')\r\n",
    "\r\n",
    "\r\n",
    "    headers = ['sr', 'abv', 'ibu', 'id' , 'name', 'style' , 'brewery_id', 'ounces']\r\n",
    "\r\n",
    "    mode = 'wt' if MODE == 1 else 'a'\r\n",
    "\r\n",
    "    fake_data_gen(records=RECORDS, headers=headers, mode=mode)\r\n",
    "\r\n",
    "    print(\"CSV generation complete!\")"
   ],
   "outputs": [
    {
     "output_type": "stream",
     "name": "stdout",
     "text": [
      "CSV generation complete!\n"
     ]
    }
   ],
   "metadata": {}
  },
  {
   "cell_type": "code",
   "execution_count": null,
   "source": [],
   "outputs": [],
   "metadata": {}
  },
  {
   "cell_type": "code",
   "execution_count": null,
   "source": [],
   "outputs": [],
   "metadata": {}
  }
 ],
 "metadata": {
  "orig_nbformat": 4,
  "language_info": {
   "name": "python",
   "version": "3.8.8",
   "mimetype": "text/x-python",
   "codemirror_mode": {
    "name": "ipython",
    "version": 3
   },
   "pygments_lexer": "ipython3",
   "nbconvert_exporter": "python",
   "file_extension": ".py"
  },
  "kernelspec": {
   "name": "python3",
   "display_name": "Python 3.8.8 64-bit"
  },
  "interpreter": {
   "hash": "ed225720166559e7176d3793db16a2fd8d295f725007103b21ac3099d2a89ee8"
  }
 },
 "nbformat": 4,
 "nbformat_minor": 2
}